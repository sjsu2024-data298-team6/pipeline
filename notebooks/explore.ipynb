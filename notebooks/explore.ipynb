{
 "cells": [
  {
   "cell_type": "code",
   "execution_count": 1,
   "id": "a33560d7",
   "metadata": {},
   "outputs": [
    {
     "data": {
      "text/plain": [
       "True"
      ]
     },
     "execution_count": 1,
     "metadata": {},
     "output_type": "execute_result"
    }
   ],
   "source": [
    "import ast\n",
    "import boto3\n",
    "import time\n",
    "import os\n",
    "from roboflow import Roboflow\n",
    "import torchvision.transforms as transforms\n",
    "from PIL import Image\n",
    "import torch\n",
    "import pathlib\n",
    "from pathlib import Path\n",
    "import shutil\n",
    "from dotenv import load_dotenv\n",
    "import matplotlib.pyplot as plt\n",
    "import yaml\n",
    "import pandas as pd\n",
    "\n",
    "# Load environment variables from .env file\n",
    "load_dotenv(\"../.env\")"
   ]
  },
  {
   "cell_type": "code",
   "execution_count": 7,
   "metadata": {},
   "outputs": [],
   "source": [
    "base_path = os.environ[\"DATASET_BASE_PATH_EXPLORE\"]\n",
    "try:\n",
    "    shutil.rmtree(base_path)\n",
    "except:\n",
    "    pass\n",
    "os.mkdir(base_path)"
   ]
  },
  {
   "cell_type": "code",
   "execution_count": 8,
   "metadata": {},
   "outputs": [],
   "source": [
    "import boto3\n",
    "import botocore\n",
    "from botocore.exceptions import ClientError\n",
    "import os"
   ]
  },
  {
   "cell_type": "code",
   "execution_count": 9,
   "metadata": {},
   "outputs": [],
   "source": [
    "s3 = boto3.resource('s3')\n",
    "BUCKET = \"sjsu-fall24-data298-team6-bucket\"\n",
    "KEY = 'dataset/yolo.zip' # download whichever dataset format you need\n",
    "try:\n",
    "    s3.Bucket(BUCKET).download_file(KEY, f'{base_path}/data.zip')\n",
    "except botocore.exceptions.ClientError as e:\n",
    "    if e.response['Error']['Code'] == \"404\":\n",
    "        print(\"The object does not exist.\")\n",
    "    else:\n",
    "        raise\n"
   ]
  },
  {
   "cell_type": "code",
   "execution_count": 11,
   "metadata": {},
   "outputs": [],
   "source": [
    "!unzip -q $DATASET_BASE_PATH_EXPLORE/data.zip -d $DATASET_BASE_PATH_EXPLORE/data"
   ]
  },
  {
   "cell_type": "markdown",
   "id": "1438d6ba",
   "metadata": {},
   "source": [
    "# VisDrone Dataset"
   ]
  },
  {
   "cell_type": "code",
   "execution_count": 14,
   "id": "33f0759c",
   "metadata": {},
   "outputs": [],
   "source": [
    "base_path = Path(base_path) / \"data\"\n",
    "with open(base_path / \"data.yaml\", \"r\") as f:\n",
    "    yaml_file = yaml.safe_load(f)"
   ]
  },
  {
   "cell_type": "code",
   "execution_count": 15,
   "id": "8e832b53",
   "metadata": {},
   "outputs": [
    {
     "name": "stdout",
     "output_type": "stream",
     "text": [
      "{'names': ['pedestrian', 'people', 'bicycle', 'car', 'van', 'truck', 'tricycle', 'awning-tricycle', 'bus', 'motor'], 'nc': 10, 'test': '../test/images', 'train': '../train/images', 'val': '../valid/images'}\n"
     ]
    }
   ],
   "source": [
    "print(yaml_file)"
   ]
  },
  {
   "cell_type": "code",
   "execution_count": 16,
   "id": "4ed427d5",
   "metadata": {},
   "outputs": [
    {
     "name": "stdout",
     "output_type": "stream",
     "text": [
      "Classes in dataset: ['pedestrian', 'people', 'bicycle', 'car', 'van', 'truck', 'tricycle', 'awning-tricycle', 'bus', 'motor']\n",
      "Number of classes in dataset:  10\n",
      "Number of training images:  5176\n",
      "Number of testing images:  648\n",
      "Number of validation images:  647\n"
     ]
    }
   ],
   "source": [
    "classes = yaml_file[\"names\"]\n",
    "print(\"Classes in dataset:\", classes)\n",
    "print(\"Number of classes in dataset: \", len(classes))\n",
    "print(\"Number of training images: \", len(os.listdir(base_path / \"train/images\")))\n",
    "print(\"Number of testing images: \", len(os.listdir(base_path / \"test/images\")))\n",
    "print(\"Number of validation images: \", len(os.listdir(base_path / \"valid/images\")))"
   ]
  },
  {
   "cell_type": "code",
   "execution_count": 17,
   "id": "0e0f2d8e",
   "metadata": {},
   "outputs": [],
   "source": [
    "def class_counts_per_split(split):\n",
    "    split_path = base_path / split / \"labels\"\n",
    "    class_counts = {}\n",
    "    for label in os.listdir(split_path):\n",
    "        with open(split_path / label, \"r\") as f:\n",
    "            lines = f.read().splitlines()\n",
    "        for line in lines:\n",
    "            class_id = line.split()[0]\n",
    "            class_id = int(class_id)\n",
    "            try:\n",
    "                class_counts[class_id] += 1\n",
    "            except:\n",
    "                class_counts[class_id] = 1\n",
    "\n",
    "    class_count_with_name = {}\n",
    "    print(f\"{split} split\")\n",
    "    print(\"Class name           | count\")\n",
    "    print(\"----------------------------\")\n",
    "    for i, c in enumerate(classes):\n",
    "        try:\n",
    "            count = class_counts[i]\n",
    "        except:\n",
    "            count = 0\n",
    "        print(f\"{c:<20} | {count}\")\n",
    "        class_count_with_name[c] = count\n",
    "    return class_count_with_name"
   ]
  },
  {
   "cell_type": "code",
   "execution_count": 18,
   "id": "4f65c2f6",
   "metadata": {},
   "outputs": [
    {
     "name": "stdout",
     "output_type": "stream",
     "text": [
      "train split\n",
      "Class name           | count\n",
      "----------------------------\n",
      "pedestrian           | 63486\n",
      "people               | 21941\n",
      "bicycle              | 8471\n",
      "car                  | 116144\n",
      "van                  | 19858\n",
      "truck                | 10378\n",
      "tricycle             | 3890\n",
      "awning-tricycle      | 2660\n",
      "bus                  | 4893\n",
      "motor                | 24180\n"
     ]
    }
   ],
   "source": [
    "train_count = class_counts_per_split(\"train\")"
   ]
  },
  {
   "cell_type": "code",
   "execution_count": 19,
   "id": "2b314f57",
   "metadata": {},
   "outputs": [
    {
     "name": "stdout",
     "output_type": "stream",
     "text": [
      "test split\n",
      "Class name           | count\n",
      "----------------------------\n",
      "pedestrian           | 7712\n",
      "people               | 2495\n",
      "bicycle              | 1108\n",
      "car                  | 14486\n",
      "van                  | 2530\n",
      "truck                | 1188\n",
      "tricycle             | 458\n",
      "awning-tricycle      | 256\n",
      "bus                  | 552\n",
      "motor                | 2657\n"
     ]
    }
   ],
   "source": [
    "test_count = class_counts_per_split(\"test\")"
   ]
  },
  {
   "cell_type": "code",
   "execution_count": 20,
   "id": "35f5d4c0",
   "metadata": {},
   "outputs": [
    {
     "name": "stdout",
     "output_type": "stream",
     "text": [
      "valid split\n",
      "Class name           | count\n",
      "----------------------------\n",
      "pedestrian           | 8139\n",
      "people               | 2623\n",
      "bicycle              | 901\n",
      "car                  | 14237\n",
      "van                  | 2568\n",
      "truck                | 1309\n",
      "tricycle             | 464\n",
      "awning-tricycle      | 330\n",
      "bus                  | 481\n",
      "motor                | 2810\n"
     ]
    }
   ],
   "source": [
    "valid_count = class_counts_per_split(\"valid\")"
   ]
  },
  {
   "cell_type": "code",
   "execution_count": 24,
   "id": "75486391",
   "metadata": {},
   "outputs": [
    {
     "data": {
      "image/png": "[encoded data removed]",
      "text/plain": [
       "<Figure size 1000x600 with 1 Axes>"
      ]
     },
     "metadata": {},
     "output_type": "display_data"
    }
   ],
   "source": [
    "# Create a DataFrame\n",
    "data = {\"Train\": train_count, \"Validation\": valid_count, \"Test\": test_count}\n",
    "df = pd.DataFrame(data)\n",
    "\n",
    "# Plotting\n",
    "df.plot(kind=\"barh\", figsize=(10, 6), width=0.8)\n",
    "\n",
    "# Labels and title\n",
    "plt.xlabel(\"Count\")\n",
    "plt.ylabel(\"Categories\")\n",
    "plt.title(\"Dataset Distribution Across Train, Validation, and Test Sets\")\n",
    "plt.xscale(\"log\")\n",
    "plt.legend(title=\"Dataset\")\n",
    "\n",
    "plt.show()"
   ]
  },
  {
   "cell_type": "code",
   "execution_count": 59,
   "metadata": {},
   "outputs": [],
   "source": [
    "from PIL import Image\n",
    "split_path = base_path / split / \"labels\"\n",
    "img_sizes = []\n",
    "bbx_sizes = []\n",
    "num_label = []\n",
    "for split in [\"train\", \"valid\", \"test\"]:\n",
    "    for label in os.listdir(split_path):\n",
    "        label_file = split_path / label\n",
    "        image_file = Path(label_file.parent.parent / \"images\" / label_file.parts[-1]).with_suffix(\".jpg\")\n",
    "        img = Image.open(image_file)\n",
    "        imgw, imgh = img.size\n",
    "        with open(label_file, \"r\") as f:\n",
    "            lines = f.read().splitlines()\n",
    "        x = 0\n",
    "        for line in lines:\n",
    "            _,_,w,h = line.split()[1:]\n",
    "            w = int(float(w) * imgw) + 1\n",
    "            h = int(float(h) * imgh) + 1\n",
    "            bbx_sizes.append(w * h)\n",
    "            x += 1\n",
    "        num_label.append(x)\n",
    "        img_sizes.append(imgw * imgh)"
   ]
  },
  {
   "cell_type": "code",
   "execution_count": 61,
   "metadata": {},
   "outputs": [
    {
     "name": "stdout",
     "output_type": "stream",
     "text": [
      "Average Image Area:                          1597526.814815 px^2\n",
      "Average Bounding Box Area:                   2597.777555 px^2\n",
      "Ratio of Bounding Box Area to Image Area:    0.162612%\n",
      "Average Number of Classifications per Image: 51\n",
      "\n",
      "Image Sizes:\n",
      " - Max: 3000000\n",
      " - Min: 518400\n",
      "\n",
      "Bounding Box Sizes:\n",
      " - Max: 212602\n",
      " - Min: 4\n"
     ]
    }
   ],
   "source": [
    "avg_img = sum(img_sizes) / len(img_sizes)\n",
    "avg_bbx = sum(bbx_sizes) / len(bbx_sizes)\n",
    "avg_num = sum(num_label) / len(num_label)\n",
    "\n",
    "max_img_size = max(img_sizes)\n",
    "min_img_size = min(img_sizes)\n",
    "max_bbx_size = max(bbx_sizes)\n",
    "min_bbx_size = min(bbx_sizes)\n",
    "\n",
    "print(f\"{'Average Image Area:':<45}{avg_img:.6f} px^2\")\n",
    "print(f\"{'Average Bounding Box Area:':<45}{avg_bbx:.6f} px^2\")\n",
    "print(f\"{'Ratio of Bounding Box Area to Image Area:':<45}{avg_bbx / avg_img * 100:.6f}%\")\n",
    "print(f\"{'Average Number of Classifications per Image:':<45}{int(avg_num)}\")\n",
    "print(\"\\nImage Sizes:\")\n",
    "print(f\" - Max: {max_img_size}\")\n",
    "print(f\" - Min: {min_img_size}\")\n",
    "print(\"\\nBounding Box Sizes:\")\n",
    "print(f\" - Max: {max_bbx_size}\")\n",
    "print(f\" - Min: {min_bbx_size}\")\n"
   ]
  }
 ],
 "metadata": {
  "kernelspec": {
   "display_name": "Python 3 (ipykernel)",
   "language": "python",
   "name": "python3"
  },
  "language_info": {
   "codemirror_mode": {
    "name": "ipython",
    "version": 3
   },
   "file_extension": ".py",
   "mimetype": "text/x-python",
   "name": "python",
   "nbconvert_exporter": "python",
   "pygments_lexer": "ipython3",
   "version": "3.10.12"
  },
  "varInspector": {
   "cols": {
    "lenName": 16,
    "lenType": 16,
    "lenVar": 40
   },
   "kernels_config": {
    "python": {
     "delete_cmd_postfix": "",
     "delete_cmd_prefix": "del ",
     "library": "var_list.py",
     "varRefreshCmd": "print(var_dic_list())"
    },
    "r": {
     "delete_cmd_postfix": ") ",
     "delete_cmd_prefix": "rm(",
     "library": "var_list.r",
     "varRefreshCmd": "cat(var_dic_list()) "
    }
   },
   "types_to_exclude": [
    "module",
    "function",
    "builtin_function_or_method",
    "instance",
    "_Feature"
   ],
   "window_display": false
  }
 },
 "nbformat": 4,
 "nbformat_minor": 5
}

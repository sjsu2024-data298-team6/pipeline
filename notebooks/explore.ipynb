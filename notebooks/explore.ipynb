{
 "cells": [
  {
   "cell_type": "code",
   "execution_count": 56,
   "id": "a33560d7",
   "metadata": {},
   "outputs": [],
   "source": [
    "import ast\n",
    "import boto3\n",
    "import time\n",
    "import os\n",
    "from roboflow import Roboflow\n",
    "import torchvision.transforms as transforms\n",
    "from PIL import Image\n",
    "import torch\n",
    "import pathlib\n",
    "from pathlib import Path\n",
    "import shutil\n",
    "from dotenv import load_dotenv\n",
    "import matplotlib.pyplot as plt\n",
    "import yaml\n",
    "import pandas as pd\n",
    "\n",
    "# Load environment variables from .env file\n",
    "load_dotenv()\n",
    "\n",
    "# Environment variables (set these before running the script or hard-code them here)\n",
    "ROBOFLOW_KEY = os.getenv(\"ROBOFLOW_KEY\")  # Your Roboflow API key\n",
    "\n",
    "\n",
    "def download_dataset_from_roboflow(url):\n",
    "    parts = url.split(\"/\")\n",
    "    ds_version = parts[-1]\n",
    "    ds_project = parts[-3]\n",
    "    ds_workspace = parts[-4]\n",
    "    rf = Roboflow(api_key=ROBOFLOW_KEY)\n",
    "    project = rf.workspace(ds_workspace).project(ds_project)\n",
    "    version = project.version(ds_version)\n",
    "    dataset = version.download(\"yolov11\")\n",
    "    return Path(dataset.location)"
   ]
  },
  {
   "cell_type": "code",
   "execution_count": 57,
   "id": "e7e4d0b8",
   "metadata": {},
   "outputs": [
    {
     "name": "stdout",
     "output_type": "stream",
     "text": [
      "loading Roboflow workspace...\n",
      "loading Roboflow project...\n"
     ]
    }
   ],
   "source": [
    "base_path = download_dataset_from_roboflow(\n",
    "    \"https://universe.roboflow.com/drone-obstacle-detection/drone-object-detection-yhpn6/dataset/15\"\n",
    ")"
   ]
  },
  {
   "cell_type": "code",
   "execution_count": 58,
   "id": "51d97763",
   "metadata": {},
   "outputs": [],
   "source": [
    "with open(base_path / \"data.yaml\", \"r\") as f:\n",
    "    yaml_file = yaml.safe_load(f)"
   ]
  },
  {
   "cell_type": "code",
   "execution_count": 59,
   "id": "c4dd7f5b",
   "metadata": {},
   "outputs": [
    {
     "name": "stdout",
     "output_type": "stream",
     "text": [
      "{'train': '../train/images', 'val': '../valid/images', 'test': '../test/images', 'nc': 6, 'names': ['Building', 'Fence', 'House', 'Pole', 'Street Sign', 'Tree'], 'roboflow': {'workspace': 'drone-obstacle-detection', 'project': 'drone-object-detection-yhpn6', 'version': 15, 'license': 'CC BY 4.0', 'url': 'https://universe.roboflow.com/drone-obstacle-detection/drone-object-detection-yhpn6/dataset/15'}}\n"
     ]
    }
   ],
   "source": [
    "print(yaml_file)"
   ]
  },
  {
   "cell_type": "code",
   "execution_count": 60,
   "id": "96282c5e",
   "metadata": {},
   "outputs": [
    {
     "name": "stdout",
     "output_type": "stream",
     "text": [
      "Classes in dataset: ['Building', 'Fence', 'House', 'Pole', 'Street Sign', 'Tree']\n",
      "Number of classes in dataset:  6\n",
      "Number of training images:  345\n",
      "Number of testing images:  12\n",
      "Number of validation images:  33\n"
     ]
    }
   ],
   "source": [
    "classes = yaml_file[\"names\"]\n",
    "print(\"Classes in dataset:\", classes)\n",
    "print(\"Number of classes in dataset: \", len(classes))\n",
    "print(\"Number of training images: \", len(os.listdir(base_path / \"train/images\")))\n",
    "print(\"Number of testing images: \", len(os.listdir(base_path / \"test/images\")))\n",
    "print(\"Number of validation images: \", len(os.listdir(base_path / \"valid/images\")))"
   ]
  },
  {
   "cell_type": "code",
   "execution_count": 61,
   "id": "4a487842",
   "metadata": {},
   "outputs": [],
   "source": [
    "def class_counts_per_split(split):\n",
    "    split_path = base_path / split / \"labels\"\n",
    "    class_counts = {}\n",
    "    for label in os.listdir(split_path):\n",
    "        with open(split_path / label, \"r\") as f:\n",
    "            lines = f.read().splitlines()\n",
    "        for line in lines:\n",
    "            class_id = line.split()[0]\n",
    "            class_id = int(class_id)\n",
    "            try:\n",
    "                class_counts[class_id] += 1\n",
    "            except:\n",
    "                class_counts[class_id] = 1\n",
    "\n",
    "    class_count_with_name = {}\n",
    "    print(f\"{split} split\")\n",
    "    print(\"Class name           | count\")\n",
    "    print(\"----------------------------\")\n",
    "    for i, c in enumerate(classes):\n",
    "        try:\n",
    "            count = class_counts[i]\n",
    "        except:\n",
    "            count = 0\n",
    "        print(f\"{c:<20} | {count}\")\n",
    "        class_count_with_name[c] = count\n",
    "    return class_count_with_name"
   ]
  },
  {
   "cell_type": "code",
   "execution_count": 62,
   "id": "f970f057",
   "metadata": {},
   "outputs": [
    {
     "name": "stdout",
     "output_type": "stream",
     "text": [
      "train split\n",
      "Class name           | count\n",
      "----------------------------\n",
      "Building             | 471\n",
      "Fence                | 258\n",
      "House                | 189\n",
      "Pole                 | 393\n",
      "Street Sign          | 129\n",
      "Tree                 | 1809\n"
     ]
    }
   ],
   "source": [
    "train_count = class_counts_per_split(\"train\")"
   ]
  },
  {
   "cell_type": "code",
   "execution_count": 63,
   "id": "ce71c635",
   "metadata": {},
   "outputs": [
    {
     "name": "stdout",
     "output_type": "stream",
     "text": [
      "test split\n",
      "Class name           | count\n",
      "----------------------------\n",
      "Building             | 7\n",
      "Fence                | 6\n",
      "House                | 6\n",
      "Pole                 | 17\n",
      "Street Sign          | 6\n",
      "Tree                 | 53\n"
     ]
    }
   ],
   "source": [
    "test_count = class_counts_per_split(\"test\")"
   ]
  },
  {
   "cell_type": "code",
   "execution_count": 64,
   "id": "e07585f1",
   "metadata": {},
   "outputs": [
    {
     "name": "stdout",
     "output_type": "stream",
     "text": [
      "valid split\n",
      "Class name           | count\n",
      "----------------------------\n",
      "Building             | 45\n",
      "Fence                | 16\n",
      "House                | 18\n",
      "Pole                 | 42\n",
      "Street Sign          | 11\n",
      "Tree                 | 192\n"
     ]
    }
   ],
   "source": [
    "valid_count = class_counts_per_split(\"valid\")"
   ]
  },
  {
   "cell_type": "code",
   "execution_count": 65,
   "id": "f6d9ea81",
   "metadata": {},
   "outputs": [
    {
     "data": {
      "image/png": "[encoded data removed]",
      "text/plain": [
       "<Figure size 1000x600 with 1 Axes>"
      ]
     },
     "metadata": {},
     "output_type": "display_data"
    }
   ],
   "source": [
    "# Create a DataFrame\n",
    "data = {\"Train\": train_count, \"Validation\": valid_count, \"Test\": test_count}\n",
    "df = pd.DataFrame(data)\n",
    "\n",
    "# Plotting\n",
    "df.plot(kind=\"bar\", figsize=(10, 6), width=0.75)\n",
    "\n",
    "# Labels and title\n",
    "plt.xlabel(\"Categories\")\n",
    "plt.ylabel(\"Count\")\n",
    "plt.title(\"Dataset Distribution Across Train, Validation, and Test Sets\")\n",
    "plt.legend(title=\"Dataset\")\n",
    "\n",
    "plt.show()"
   ]
  }
 ],
 "metadata": {
  "kernelspec": {
   "display_name": "Python 3 (ipykernel)",
   "language": "python",
   "name": "python3"
  },
  "language_info": {
   "codemirror_mode": {
    "name": "ipython",
    "version": 3
   },
   "file_extension": ".py",
   "mimetype": "text/x-python",
   "name": "python",
   "nbconvert_exporter": "python",
   "pygments_lexer": "ipython3",
   "version": "3.10.12"
  },
  "varInspector": {
   "cols": {
    "lenName": 16,
    "lenType": 16,
    "lenVar": 40
   },
   "kernels_config": {
    "python": {
     "delete_cmd_postfix": "",
     "delete_cmd_prefix": "del ",
     "library": "var_list.py",
     "varRefreshCmd": "print(var_dic_list())"
    },
    "r": {
     "delete_cmd_postfix": ") ",
     "delete_cmd_prefix": "rm(",
     "library": "var_list.r",
     "varRefreshCmd": "cat(var_dic_list()) "
    }
   },
   "types_to_exclude": [
    "module",
    "function",
    "builtin_function_or_method",
    "instance",
    "_Feature"
   ],
   "window_display": false
  }
 },
 "nbformat": 4,
 "nbformat_minor": 5
}

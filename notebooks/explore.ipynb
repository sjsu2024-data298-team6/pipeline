{
 "cells": [
  {
   "cell_type": "code",
   "execution_count": 50,
   "id": "a33560d7",
   "metadata": {},
   "outputs": [],
   "source": [
    "import ast\n",
    "import boto3\n",
    "import time\n",
    "import os\n",
    "from roboflow import Roboflow\n",
    "import torchvision.transforms as transforms\n",
    "from PIL import Image\n",
    "import torch\n",
    "import pathlib\n",
    "from pathlib import Path\n",
    "import shutil\n",
    "from dotenv import load_dotenv\n",
    "import matplotlib.pyplot as plt\n",
    "import yaml\n",
    "import pandas as pd\n",
    "\n",
    "# Load environment variables from .env file\n",
    "load_dotenv()\n",
    "\n",
    "# Environment variables (set these before running the script or hard-code them here)\n",
    "ROBOFLOW_KEY = os.getenv(\"ROBOFLOW_KEY\")  # Your Roboflow API key\n",
    "\n",
    "\n",
    "def download_dataset_from_roboflow(url):\n",
    "    parts = url.split(\"/\")\n",
    "    ds_version = parts[-1]\n",
    "    ds_project = parts[-3]\n",
    "    ds_workspace = parts[-4]\n",
    "    rf = Roboflow(api_key=ROBOFLOW_KEY)\n",
    "    project = rf.workspace(ds_workspace).project(ds_project)\n",
    "    version = project.version(ds_version)\n",
    "    dataset = version.download(\"yolov11\")\n",
    "    return Path(dataset.location)"
   ]
  },
  {
   "cell_type": "markdown",
   "id": "de2d51cc",
   "metadata": {},
   "source": [
    "# Small drone obstacle detection"
   ]
  },
  {
   "cell_type": "code",
   "execution_count": 51,
   "id": "e7e4d0b8",
   "metadata": {},
   "outputs": [
    {
     "name": "stdout",
     "output_type": "stream",
     "text": [
      "loading Roboflow workspace...\n",
      "loading Roboflow project...\n"
     ]
    }
   ],
   "source": [
    "base_path = download_dataset_from_roboflow(\n",
    "    \"https://universe.roboflow.com/drone-obstacle-detection/drone-object-detection-yhpn6/dataset/73\"\n",
    ")"
   ]
  },
  {
   "cell_type": "code",
   "execution_count": 52,
   "id": "51d97763",
   "metadata": {},
   "outputs": [],
   "source": [
    "with open(base_path / \"data.yaml\", \"r\") as f:\n",
    "    yaml_file = yaml.safe_load(f)"
   ]
  },
  {
   "cell_type": "code",
   "execution_count": 53,
   "id": "c4dd7f5b",
   "metadata": {},
   "outputs": [
    {
     "name": "stdout",
     "output_type": "stream",
     "text": [
      "{'train': '../train/images', 'val': '../valid/images', 'test': '../test/images', 'nc': 6, 'names': ['Building', 'Fence', 'House', 'Pole', 'Street Sign', 'Tree'], 'roboflow': {'workspace': 'drone-obstacle-detection', 'project': 'drone-object-detection-yhpn6', 'version': 73, 'license': 'CC BY 4.0', 'url': 'https://universe.roboflow.com/drone-obstacle-detection/drone-object-detection-yhpn6/dataset/73'}}\n"
     ]
    }
   ],
   "source": [
    "print(yaml_file)"
   ]
  },
  {
   "cell_type": "code",
   "execution_count": 54,
   "id": "96282c5e",
   "metadata": {},
   "outputs": [
    {
     "name": "stdout",
     "output_type": "stream",
     "text": [
      "Classes in dataset: ['Building', 'Fence', 'House', 'Pole', 'Street Sign', 'Tree']\n",
      "Number of classes in dataset:  6\n",
      "Number of training images:  441\n",
      "Number of testing images:  19\n",
      "Number of validation images:  40\n"
     ]
    }
   ],
   "source": [
    "classes = yaml_file[\"names\"]\n",
    "print(\"Classes in dataset:\", classes)\n",
    "print(\"Number of classes in dataset: \", len(classes))\n",
    "print(\"Number of training images: \", len(os.listdir(base_path / \"train/images\")))\n",
    "print(\"Number of testing images: \", len(os.listdir(base_path / \"test/images\")))\n",
    "print(\"Number of validation images: \", len(os.listdir(base_path / \"valid/images\")))"
   ]
  },
  {
   "cell_type": "code",
   "execution_count": 55,
   "id": "4a487842",
   "metadata": {},
   "outputs": [],
   "source": [
    "def class_counts_per_split(split):\n",
    "    split_path = base_path / split / \"labels\"\n",
    "    class_counts = {}\n",
    "    for label in os.listdir(split_path):\n",
    "        with open(split_path / label, \"r\") as f:\n",
    "            lines = f.read().splitlines()\n",
    "        for line in lines:\n",
    "            class_id = line.split()[0]\n",
    "            class_id = int(class_id)\n",
    "            try:\n",
    "                class_counts[class_id] += 1\n",
    "            except:\n",
    "                class_counts[class_id] = 1\n",
    "\n",
    "    class_count_with_name = {}\n",
    "    print(f\"{split} split\")\n",
    "    print(\"Class name           | count\")\n",
    "    print(\"----------------------------\")\n",
    "    for i, c in enumerate(classes):\n",
    "        try:\n",
    "            count = class_counts[i]\n",
    "        except:\n",
    "            count = 0\n",
    "        print(f\"{c:<20} | {count}\")\n",
    "        class_count_with_name[c] = count\n",
    "    return class_count_with_name"
   ]
  },
  {
   "cell_type": "code",
   "execution_count": 56,
   "id": "f970f057",
   "metadata": {},
   "outputs": [
    {
     "name": "stdout",
     "output_type": "stream",
     "text": [
      "train split\n",
      "Class name           | count\n",
      "----------------------------\n",
      "Building             | 936\n",
      "Fence                | 330\n",
      "House                | 333\n",
      "Pole                 | 618\n",
      "Street Sign          | 240\n",
      "Tree                 | 3453\n"
     ]
    }
   ],
   "source": [
    "train_count = class_counts_per_split(\"train\")"
   ]
  },
  {
   "cell_type": "code",
   "execution_count": 57,
   "id": "ce71c635",
   "metadata": {},
   "outputs": [
    {
     "name": "stdout",
     "output_type": "stream",
     "text": [
      "test split\n",
      "Class name           | count\n",
      "----------------------------\n",
      "Building             | 18\n",
      "Fence                | 2\n",
      "House                | 10\n",
      "Pole                 | 15\n",
      "Street Sign          | 0\n",
      "Tree                 | 79\n"
     ]
    }
   ],
   "source": [
    "test_count = class_counts_per_split(\"test\")"
   ]
  },
  {
   "cell_type": "code",
   "execution_count": 58,
   "id": "e07585f1",
   "metadata": {},
   "outputs": [
    {
     "name": "stdout",
     "output_type": "stream",
     "text": [
      "valid split\n",
      "Class name           | count\n",
      "----------------------------\n",
      "Building             | 77\n",
      "Fence                | 16\n",
      "House                | 17\n",
      "Pole                 | 36\n",
      "Street Sign          | 9\n",
      "Tree                 | 203\n"
     ]
    }
   ],
   "source": [
    "valid_count = class_counts_per_split(\"valid\")"
   ]
  },
  {
   "cell_type": "code",
   "execution_count": 59,
   "id": "f6d9ea81",
   "metadata": {
    "scrolled": false
   },
   "outputs": [
    {
     "data": {
      "image/png": "[encoded data removed]",
      "text/plain": [
       "<Figure size 1000x600 with 1 Axes>"
      ]
     },
     "metadata": {},
     "output_type": "display_data"
    }
   ],
   "source": [
    "# Create a DataFrame\n",
    "data = {\"Train\": train_count, \"Validation\": valid_count, \"Test\": test_count}\n",
    "df = pd.DataFrame(data)\n",
    "\n",
    "# Plotting\n",
    "df.plot(kind=\"barh\", figsize=(10, 6), width=0.8)\n",
    "\n",
    "# Labels and title\n",
    "plt.xlabel(\"Categories\")\n",
    "plt.ylabel(\"Count\")\n",
    "plt.title(\"Dataset Distribution Across Train, Validation, and Test Sets\")\n",
    "plt.xscale(\"log\")\n",
    "plt.legend(title=\"Dataset\")\n",
    "\n",
    "plt.show()"
   ]
  },
  {
   "cell_type": "markdown",
   "id": "1438d6ba",
   "metadata": {},
   "source": [
    "# VisDrone Dataset"
   ]
  },
  {
   "cell_type": "code",
   "execution_count": 60,
   "id": "37c4ca9b",
   "metadata": {},
   "outputs": [
    {
     "name": "stdout",
     "output_type": "stream",
     "text": [
      "loading Roboflow workspace...\n",
      "loading Roboflow project...\n"
     ]
    }
   ],
   "source": [
    "base_path = download_dataset_from_roboflow(\n",
    "    \"https://universe.roboflow.com/visdrone/visdrone-lzsy1/dataset/3\"\n",
    ")"
   ]
  },
  {
   "cell_type": "code",
   "execution_count": 61,
   "id": "33f0759c",
   "metadata": {},
   "outputs": [],
   "source": [
    "with open(base_path / \"data.yaml\", \"r\") as f:\n",
    "    yaml_file = yaml.safe_load(f)"
   ]
  },
  {
   "cell_type": "code",
   "execution_count": 62,
   "id": "8e832b53",
   "metadata": {},
   "outputs": [
    {
     "name": "stdout",
     "output_type": "stream",
     "text": [
      "{'train': '../train/images', 'val': '../valid/images', 'test': '../test/images', 'nc': 12, 'names': ['Awning-tricycle', 'Bicycle', 'Bus', 'Car', 'Ignore', 'Motor', 'Others', 'Pedestrian', 'People', 'Tricycle', 'Truck', 'Van'], 'roboflow': {'workspace': 'visdrone', 'project': 'visdrone-lzsy1', 'version': 3, 'license': 'CC BY 4.0', 'url': 'https://universe.roboflow.com/visdrone/visdrone-lzsy1/dataset/3'}}\n"
     ]
    }
   ],
   "source": [
    "print(yaml_file)"
   ]
  },
  {
   "cell_type": "code",
   "execution_count": 63,
   "id": "4ed427d5",
   "metadata": {},
   "outputs": [
    {
     "name": "stdout",
     "output_type": "stream",
     "text": [
      "Classes in dataset: ['Awning-tricycle', 'Bicycle', 'Bus', 'Car', 'Ignore', 'Motor', 'Others', 'Pedestrian', 'People', 'Tricycle', 'Truck', 'Van']\n",
      "Number of classes in dataset:  12\n",
      "Number of training images:  6469\n",
      "Number of testing images:  1610\n",
      "Number of validation images:  547\n"
     ]
    }
   ],
   "source": [
    "classes = yaml_file[\"names\"]\n",
    "print(\"Classes in dataset:\", classes)\n",
    "print(\"Number of classes in dataset: \", len(classes))\n",
    "print(\"Number of training images: \", len(os.listdir(base_path / \"train/images\")))\n",
    "print(\"Number of testing images: \", len(os.listdir(base_path / \"test/images\")))\n",
    "print(\"Number of validation images: \", len(os.listdir(base_path / \"valid/images\")))"
   ]
  },
  {
   "cell_type": "code",
   "execution_count": 65,
   "id": "4f65c2f6",
   "metadata": {},
   "outputs": [
    {
     "name": "stdout",
     "output_type": "stream",
     "text": [
      "train split\n",
      "Class name           | count\n",
      "----------------------------\n",
      "Awning-tricycle      | 2375\n",
      "Bicycle              | 7874\n",
      "Bus                  | 4433\n",
      "Car                  | 113594\n",
      "Ignore               | 6739\n",
      "Motor                | 22109\n",
      "Others               | 1164\n",
      "Pedestrian           | 57709\n",
      "People               | 20285\n",
      "Tricycle             | 3358\n",
      "Truck                | 10004\n",
      "Van                  | 18845\n"
     ]
    }
   ],
   "source": [
    "train_count = class_counts_per_split(\"train\")"
   ]
  },
  {
   "cell_type": "code",
   "execution_count": 66,
   "id": "2b314f57",
   "metadata": {},
   "outputs": [
    {
     "name": "stdout",
     "output_type": "stream",
     "text": [
      "test split\n",
      "Class name           | count\n",
      "----------------------------\n",
      "Awning-tricycle      | 455\n",
      "Bicycle              | 841\n",
      "Bus                  | 1932\n",
      "Car                  | 19712\n",
      "Ignore               | 1529\n",
      "Motor                | 4159\n",
      "Others               | 180\n",
      "Pedestrian           | 13711\n",
      "People               | 4300\n",
      "Tricycle             | 370\n",
      "Truck                | 1725\n",
      "Van                  | 3792\n"
     ]
    }
   ],
   "source": [
    "test_count = class_counts_per_split(\"test\")"
   ]
  },
  {
   "cell_type": "code",
   "execution_count": 67,
   "id": "35f5d4c0",
   "metadata": {},
   "outputs": [
    {
     "name": "stdout",
     "output_type": "stream",
     "text": [
      "valid split\n",
      "Class name           | count\n",
      "----------------------------\n",
      "Awning-tricycle      | 383\n",
      "Bicycle              | 766\n",
      "Bus                  | 208\n",
      "Car                  | 10089\n",
      "Ignore               | 959\n",
      "Motor                | 3199\n",
      "Others               | 19\n",
      "Pedestrian           | 5195\n",
      "People               | 3523\n",
      "Tricycle             | 681\n",
      "Truck                | 522\n",
      "Van                  | 1343\n"
     ]
    }
   ],
   "source": [
    "valid_count = class_counts_per_split(\"valid\")"
   ]
  },
  {
   "cell_type": "code",
   "execution_count": 68,
   "id": "75486391",
   "metadata": {},
   "outputs": [
    {
     "data": {
      "image/png": "[encoded data removed]",
      "text/plain": [
       "<Figure size 1000x600 with 1 Axes>"
      ]
     },
     "metadata": {},
     "output_type": "display_data"
    }
   ],
   "source": [
    "# Create a DataFrame\n",
    "data = {\"Train\": train_count, \"Validation\": valid_count, \"Test\": test_count}\n",
    "df = pd.DataFrame(data)\n",
    "\n",
    "# Plotting\n",
    "df.plot(kind=\"barh\", figsize=(10, 6), width=0.8)\n",
    "\n",
    "# Labels and title\n",
    "plt.xlabel(\"Categories\")\n",
    "plt.ylabel(\"Count\")\n",
    "plt.title(\"Dataset Distribution Across Train, Validation, and Test Sets\")\n",
    "plt.xscale(\"log\")\n",
    "plt.legend(title=\"Dataset\")\n",
    "\n",
    "plt.show()"
   ]
  }
 ],
 "metadata": {
  "kernelspec": {
   "display_name": "Python 3 (ipykernel)",
   "language": "python",
   "name": "python3"
  },
  "language_info": {
   "codemirror_mode": {
    "name": "ipython",
    "version": 3
   },
   "file_extension": ".py",
   "mimetype": "text/x-python",
   "name": "python",
   "nbconvert_exporter": "python",
   "pygments_lexer": "ipython3",
   "version": "3.10.12"
  },
  "varInspector": {
   "cols": {
    "lenName": 16,
    "lenType": 16,
    "lenVar": 40
   },
   "kernels_config": {
    "python": {
     "delete_cmd_postfix": "",
     "delete_cmd_prefix": "del ",
     "library": "var_list.py",
     "varRefreshCmd": "print(var_dic_list())"
    },
    "r": {
     "delete_cmd_postfix": ") ",
     "delete_cmd_prefix": "rm(",
     "library": "var_list.r",
     "varRefreshCmd": "cat(var_dic_list()) "
    }
   },
   "types_to_exclude": [
    "module",
    "function",
    "builtin_function_or_method",
    "instance",
    "_Feature"
   ],
   "window_display": false
  }
 },
 "nbformat": 4,
 "nbformat_minor": 5
}
